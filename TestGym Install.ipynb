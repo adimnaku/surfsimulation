{
 "cells": [
  {
   "cell_type": "code",
   "execution_count": 1,
   "id": "db29dee8",
   "metadata": {},
   "outputs": [
    {
     "name": "stderr",
     "output_type": "stream",
     "text": [
      "DEBUG:commons:version: 6.2.4 *\n",
      "DEBUG:typing:version: 6.2.3\n",
      "DEBUG:duckietown_world:duckietown-world version 6.2.39 path /home/be107/.local/lib/python3.6/site-packages\n",
      "DEBUG:geometry:PyGeometry-z6 version 2.1.4 path /home/be107/.local/lib/python3.6/site-packages\n",
      "/home/be107/.local/lib/python3.6/site-packages/geometry/utils/numpy_backport.py:9: DeprecationWarning: Importing from numpy.testing.utils is deprecated since 1.15.0, import from numpy.testing instead.\n",
      "  from numpy.testing.utils import assert_allclose  # @UnusedImport\n",
      "DEBUG:aido_schemas:aido-protocols version 6.0.59 path /home/be107/.local/lib/python3.6/site-packages\n",
      "DEBUG:nodes:version 6.2.13 path /home/be107/.local/lib/python3.6/site-packages pyparsing 2.4.7\n",
      "DEBUG:gym-duckietown:gym-duckietown version 6.1.31 path /home/be107/gym-duckietown/src\n",
      "\n"
     ]
    },
    {
     "name": "stdout",
     "output_type": "stream",
     "text": [
      "{'audio': ('xaudio2', 'directsound', 'openal', 'pulse', 'silent'), 'debug_font': False, 'debug_gl': True, 'debug_gl_trace': False, 'debug_gl_trace_args': False, 'debug_graphics_batch': False, 'debug_lib': False, 'debug_media': False, 'debug_texture': False, 'debug_trace': False, 'debug_trace_args': False, 'debug_trace_depth': 1, 'debug_trace_flush': True, 'debug_win32': False, 'debug_x11': False, 'graphics_vbo': True, 'shadow_window': True, 'vsync': None, 'xsync': True, 'xlib_fullscreen_override_redirect': False, 'darwin_cocoa': True, 'search_local_libs': True, 'advanced_font_features': False, 'headless': False, 'headless_device': 0, 'win32_disable_shaping': False}\n"
     ]
    }
   ],
   "source": [
    "import gym\n",
    "import gym_duckietown"
   ]
  },
  {
   "cell_type": "code",
   "execution_count": null,
   "id": "5b2301b9",
   "metadata": {},
   "outputs": [],
   "source": []
  }
 ],
 "metadata": {
  "kernelspec": {
   "display_name": "Python 3",
   "language": "python",
   "name": "python3"
  },
  "language_info": {
   "codemirror_mode": {
    "name": "ipython",
    "version": 3
   },
   "file_extension": ".py",
   "mimetype": "text/x-python",
   "name": "python",
   "nbconvert_exporter": "python",
   "pygments_lexer": "ipython3",
   "version": "3.6.9"
  }
 },
 "nbformat": 4,
 "nbformat_minor": 5
}
