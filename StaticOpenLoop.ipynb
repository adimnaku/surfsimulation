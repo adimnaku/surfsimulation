{
 "cells": [
  {
   "cell_type": "code",
   "execution_count": 1,
   "id": "263dcbd2",
   "metadata": {},
   "outputs": [
    {
     "name": "stderr",
     "output_type": "stream",
     "text": [
      "DEBUG:commons:version: 6.2.4 *\n",
      "DEBUG:typing:version: 6.2.3\n",
      "DEBUG:geometry:PyGeometry-z6 version 2.1.4 path /home/be107/DTSimulation/lib/python3.6/site-packages\n",
      "/home/be107/DTSimulation/lib/python3.6/site-packages/geometry/utils/numpy_backport.py:9: DeprecationWarning: Importing from numpy.testing.utils is deprecated since 1.15.0, import from numpy.testing instead.\n",
      "  from numpy.testing.utils import assert_allclose  # @UnusedImport\n",
      "DEBUG:duckietown_world:duckietown-world version 6.2.39 path /home/be107/DTSimulation/lib/python3.6/site-packages\n",
      "DEBUG:aido_schemas:aido-protocols version 6.0.59 path /home/be107/DTSimulation/lib/python3.6/site-packages\n",
      "DEBUG:nodes:version 6.2.13 path /home/be107/DTSimulation/lib/python3.6/site-packages pyparsing 3.0.9\n"
     ]
    },
    {
     "data": {
      "image/png": "[encoded data removed]",
      "text/plain": [
       "<Figure size 432x288 with 3 Axes>"
      ]
     },
     "metadata": {
      "needs_background": "light"
     },
     "output_type": "display_data"
    }
   ],
   "source": [
    "from gym_duckietown.simulator import Simulator\n",
    "import matplotlib.pyplot as plt\n",
    "import numpy as np\n",
    "import math\n",
    "import duckietown_world\n",
    "\n",
    "env = Simulator(\n",
    "        seed=123, # random seed\n",
    "        map_name=\"StaticMap\",\n",
    "        max_steps=500001, # we don't want the gym to reset itself\n",
    "        domain_rand=0,\n",
    "        camera_width=640,\n",
    "        camera_height=480,\n",
    "        accept_start_angle_deg=1,#at close to straight\n",
    "        full_transparency=True,\n",
    "        distortion=True,\n",
    "    )  \n",
    "    \n",
    "time = []\n",
    "angle = []\n",
    "\n",
    "vel_other = []\n",
    "vel_main = []\n",
    "\n",
    "accel_lst_main = []\n",
    "accel_lst_other = []\n",
    "\n",
    "dist = []\n",
    "\n",
    "#initializing the graphs\n",
    "figure, axis = plt.subplots(1, 3)\n",
    "plt.subplots_adjust(left=0.1, bottom=0.5, right=1.9, top=0.9, wspace=0.9, hspace=0.9)\n",
    "\n",
    "#initial parameters for the car\n",
    "dt = 0\n",
    "TIME_STEP = 1\n",
    "obj_dist = 0\n",
    "\n",
    "speed = 0.2\n",
    "accel = 0\n",
    "accel_other = 0\n",
    "\n",
    "while dt < 2000:\n",
    "    lane_pose = env.get_lane_pos2(env.cur_pos, env.cur_angle)\n",
    "    distance_to_road_center = lane_pose.dist\n",
    "    angle_from_straight_in_rads = lane_pose.angle_rad\n",
    "    k_p = 10\n",
    "    k_d = 1\n",
    "    steering = k_p*distance_to_road_center + k_d*angle_from_straight_in_rads \n",
    "    dt = dt + 1\n",
    "\n",
    "    ###### Getting info to be printed on the graphs\n",
    "    obs, reward, done, misc = env.step([speed, steering])\n",
    "    \n",
    "    info = misc[\"Simulator\"]\n",
    "    pos = info[\"cur_pos\"]\n",
    "    time.append(dt)\n",
    "    \n",
    "    obj_dist = pos[0] * -1\n",
    "    for obj in env.objects:\n",
    "        obj_dist += obj.pos[0]\n",
    "    \n",
    "    accel = math.pow(speed, 2) /(2.0 * obj_dist)\n",
    "    speed -= accel * 0.1 #0.032954733427833\n",
    "      \n",
    "    dist.append(obj_dist)\n",
    "    accel_lst_main.append(accel)\n",
    "    vel_main.append(speed)\n",
    "    \n",
    "    if(speed <= 0):\n",
    "        speed = 0\n",
    "    \n",
    "    env.render()\n",
    "\n",
    "    if done:\n",
    "        if reward < 0:\n",
    "            print('*** CRASHED ***')\n",
    "        break\n",
    "\n",
    "axis[0].scatter(time, vel_main)\n",
    "axis[0].set_title(\"Velocity vs time\")\n",
    "axis[0].set_xlabel(\"time\")\n",
    "axis[0].set_ylabel(\"velocity\")\n",
    "\n",
    "axis[1].scatter(dist, vel_main)\n",
    "axis[1].set_title(\"Velocity vs distance\")\n",
    "axis[1].set_xlabel(\"distance\")\n",
    "axis[1].set_ylabel(\"velocity\")\n",
    "\n",
    "axis[2].scatter(time, accel_lst_main)\n",
    "axis[2].set_title(\"Acceleration vs time\")\n",
    "axis[2].set_xlabel(\"time\")\n",
    "axis[2].set_ylabel(\"acceleration\")\n",
    "\n",
    "plt.savefig(\"Dynamic_Reactive_Graphs/Fig_Save_Test.png\")\n",
    "\n",
    "plt.show()"
   ]
  },
  {
   "cell_type": "code",
   "execution_count": null,
   "id": "86f198ec",
   "metadata": {},
   "outputs": [],
   "source": []
  }
 ],
 "metadata": {
  "kernelspec": {
   "display_name": "Python 3",
   "language": "python",
   "name": "python3"
  },
  "language_info": {
   "codemirror_mode": {
    "name": "ipython",
    "version": 3
   },
   "file_extension": ".py",
   "mimetype": "text/x-python",
   "name": "python",
   "nbconvert_exporter": "python",
   "pygments_lexer": "ipython3",
   "version": "3.6.9"
  }
 },
 "nbformat": 4,
 "nbformat_minor": 5
}
